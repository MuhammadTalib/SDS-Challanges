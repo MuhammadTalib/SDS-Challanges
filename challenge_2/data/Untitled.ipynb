{
 "cells": [
  {
   "cell_type": "code",
   "execution_count": 1,
   "metadata": {},
   "outputs": [],
   "source": [
    "import numpy as np\n",
    "import pandas as pd\n",
    "import statsmodels.api as sm\n",
    "import matplotlib.pyplot as plt\n",
    "from sklearn.linear_model import LinearRegression\n",
    "from sklearn.preprocessing import LabelEncoder, OneHotEncoder\n",
    "from sklearn.metrics import mean_squared_error\n",
    "from math import sqrt\n",
    "from sklearn.metrics import mean_absolute_error \n",
    "from sklearn.metrics import r2_score\n",
    "\n",
    "import seaborn as sns\n",
    "sns.set()\n",
    "\n",
    "def percentage_error(actual, predicted):\n",
    "    res = np.empty(actual.shape)\n",
    "    for j in range(actual.shape[0]):\n",
    "        if actual[j] != 0:\n",
    "            res[j] = (actual[j] - predicted[j]) / actual[j]\n",
    "        else:\n",
    "            res[j] = predicted[j] / np.mean(actual)\n",
    "    return res\n",
    "\n",
    "def mean_absolute_percentage_error(y_true, y_pred): \n",
    "    return np.mean(np.abs(percentage_error(np.asarray(y_true), np.asarray(y_pred)))) * 100\n",
    "\n",
    "def calculate_error_table(y_test,y_hat):\n",
    "    MSE = mean_squared_error(y_test,y_hat)     \n",
    "    MAE = mean_absolute_error(y_test, y_hat)\n",
    "    RMSE = sqrt(mean_squared_error(y_test, y_hat))\n",
    "    MAPE = mean_absolute_percentage_error(y_test, y_hat)\n",
    "    RSQUARED = r2_score(y_test, y_hat)\n",
    "\n",
    "    errorTable = pd.DataFrame([MSE], columns=['MSE'])\n",
    "    errorTable['MAPE'] = [MAPE]\n",
    "    errorTable['MAE'] = [MAE]\n",
    "    errorTable['RMSE'] = [RMSE]\n",
    "    errorTable['RSQUARED'] = [RSQUARED]\n",
    "\n",
    "    return errorTable.style.hide_index()\n",
    "def display_pred_with_test(y_test,y_hat):\n",
    "    df_pf = pd.DataFrame(y_hat, columns=['Prediction'])\n",
    "    y_test = y_test.reset_index(drop=True)\n",
    "    df_pf['Target'] = y_test\n",
    "    return df_pf\n",
    "    "
   ]
  },
  {
   "cell_type": "code",
   "execution_count": 2,
   "metadata": {},
   "outputs": [
    {
     "data": {
      "text/html": [
       "<div>\n",
       "<style scoped>\n",
       "    .dataframe tbody tr th:only-of-type {\n",
       "        vertical-align: middle;\n",
       "    }\n",
       "\n",
       "    .dataframe tbody tr th {\n",
       "        vertical-align: top;\n",
       "    }\n",
       "\n",
       "    .dataframe thead th {\n",
       "        text-align: right;\n",
       "    }\n",
       "</style>\n",
       "<table border=\"1\" class=\"dataframe\">\n",
       "  <thead>\n",
       "    <tr style=\"text-align: right;\">\n",
       "      <th></th>\n",
       "      <th>manufacturer_name</th>\n",
       "      <th>model_name</th>\n",
       "      <th>transmission</th>\n",
       "      <th>color</th>\n",
       "      <th>odometer_value</th>\n",
       "      <th>year_produced</th>\n",
       "      <th>engine_fuel</th>\n",
       "      <th>engine_has_gas</th>\n",
       "      <th>engine_type</th>\n",
       "      <th>engine_capacity</th>\n",
       "      <th>...</th>\n",
       "      <th>feature_2</th>\n",
       "      <th>feature_3</th>\n",
       "      <th>feature_4</th>\n",
       "      <th>feature_5</th>\n",
       "      <th>feature_6</th>\n",
       "      <th>feature_7</th>\n",
       "      <th>feature_8</th>\n",
       "      <th>feature_9</th>\n",
       "      <th>duration_listed</th>\n",
       "      <th>price_usd</th>\n",
       "    </tr>\n",
       "  </thead>\n",
       "  <tbody>\n",
       "    <tr>\n",
       "      <th>0</th>\n",
       "      <td>Ford</td>\n",
       "      <td>Fusion</td>\n",
       "      <td>mechanical</td>\n",
       "      <td>blue</td>\n",
       "      <td>245000</td>\n",
       "      <td>2006</td>\n",
       "      <td>gasoline</td>\n",
       "      <td>False</td>\n",
       "      <td>gasoline</td>\n",
       "      <td>1.6</td>\n",
       "      <td>...</td>\n",
       "      <td>False</td>\n",
       "      <td>False</td>\n",
       "      <td>False</td>\n",
       "      <td>False</td>\n",
       "      <td>False</td>\n",
       "      <td>False</td>\n",
       "      <td>False</td>\n",
       "      <td>False</td>\n",
       "      <td>7</td>\n",
       "      <td>4250.0</td>\n",
       "    </tr>\n",
       "    <tr>\n",
       "      <th>1</th>\n",
       "      <td>Dodge</td>\n",
       "      <td>Caravan</td>\n",
       "      <td>automatic</td>\n",
       "      <td>silver</td>\n",
       "      <td>265542</td>\n",
       "      <td>2002</td>\n",
       "      <td>gasoline</td>\n",
       "      <td>False</td>\n",
       "      <td>gasoline</td>\n",
       "      <td>3.3</td>\n",
       "      <td>...</td>\n",
       "      <td>False</td>\n",
       "      <td>False</td>\n",
       "      <td>False</td>\n",
       "      <td>False</td>\n",
       "      <td>False</td>\n",
       "      <td>False</td>\n",
       "      <td>False</td>\n",
       "      <td>False</td>\n",
       "      <td>133</td>\n",
       "      <td>4000.0</td>\n",
       "    </tr>\n",
       "    <tr>\n",
       "      <th>2</th>\n",
       "      <td>Ford</td>\n",
       "      <td>Galaxy</td>\n",
       "      <td>mechanical</td>\n",
       "      <td>blue</td>\n",
       "      <td>168000</td>\n",
       "      <td>2009</td>\n",
       "      <td>diesel</td>\n",
       "      <td>False</td>\n",
       "      <td>diesel</td>\n",
       "      <td>1.8</td>\n",
       "      <td>...</td>\n",
       "      <td>False</td>\n",
       "      <td>True</td>\n",
       "      <td>False</td>\n",
       "      <td>False</td>\n",
       "      <td>True</td>\n",
       "      <td>True</td>\n",
       "      <td>True</td>\n",
       "      <td>True</td>\n",
       "      <td>0</td>\n",
       "      <td>10900.0</td>\n",
       "    </tr>\n",
       "    <tr>\n",
       "      <th>3</th>\n",
       "      <td>Mazda</td>\n",
       "      <td>6</td>\n",
       "      <td>mechanical</td>\n",
       "      <td>other</td>\n",
       "      <td>225522</td>\n",
       "      <td>2008</td>\n",
       "      <td>gasoline</td>\n",
       "      <td>False</td>\n",
       "      <td>gasoline</td>\n",
       "      <td>1.8</td>\n",
       "      <td>...</td>\n",
       "      <td>True</td>\n",
       "      <td>False</td>\n",
       "      <td>False</td>\n",
       "      <td>True</td>\n",
       "      <td>False</td>\n",
       "      <td>False</td>\n",
       "      <td>True</td>\n",
       "      <td>True</td>\n",
       "      <td>20</td>\n",
       "      <td>6999.0</td>\n",
       "    </tr>\n",
       "    <tr>\n",
       "      <th>4</th>\n",
       "      <td>Audi</td>\n",
       "      <td>80</td>\n",
       "      <td>mechanical</td>\n",
       "      <td>black</td>\n",
       "      <td>370000</td>\n",
       "      <td>1991</td>\n",
       "      <td>gasoline</td>\n",
       "      <td>False</td>\n",
       "      <td>gasoline</td>\n",
       "      <td>1.8</td>\n",
       "      <td>...</td>\n",
       "      <td>False</td>\n",
       "      <td>False</td>\n",
       "      <td>False</td>\n",
       "      <td>False</td>\n",
       "      <td>False</td>\n",
       "      <td>False</td>\n",
       "      <td>False</td>\n",
       "      <td>True</td>\n",
       "      <td>160</td>\n",
       "      <td>1600.0</td>\n",
       "    </tr>\n",
       "  </tbody>\n",
       "</table>\n",
       "<p>5 rows × 26 columns</p>\n",
       "</div>"
      ],
      "text/plain": [
       "  manufacturer_name model_name transmission   color  odometer_value  \\\n",
       "0              Ford     Fusion   mechanical    blue          245000   \n",
       "1             Dodge    Caravan    automatic  silver          265542   \n",
       "2              Ford     Galaxy   mechanical    blue          168000   \n",
       "3             Mazda          6   mechanical   other          225522   \n",
       "4              Audi         80   mechanical   black          370000   \n",
       "\n",
       "   year_produced engine_fuel  engine_has_gas engine_type  engine_capacity  \\\n",
       "0           2006    gasoline           False    gasoline              1.6   \n",
       "1           2002    gasoline           False    gasoline              3.3   \n",
       "2           2009      diesel           False      diesel              1.8   \n",
       "3           2008    gasoline           False    gasoline              1.8   \n",
       "4           1991    gasoline           False    gasoline              1.8   \n",
       "\n",
       "   ... feature_2  feature_3 feature_4 feature_5  feature_6  feature_7  \\\n",
       "0  ...     False      False     False     False      False      False   \n",
       "1  ...     False      False     False     False      False      False   \n",
       "2  ...     False       True     False     False       True       True   \n",
       "3  ...      True      False     False      True      False      False   \n",
       "4  ...     False      False     False     False      False      False   \n",
       "\n",
       "   feature_8  feature_9  duration_listed  price_usd  \n",
       "0      False      False                7     4250.0  \n",
       "1      False      False              133     4000.0  \n",
       "2       True       True                0    10900.0  \n",
       "3       True       True               20     6999.0  \n",
       "4      False       True              160     1600.0  \n",
       "\n",
       "[5 rows x 26 columns]"
      ]
     },
     "execution_count": 2,
     "metadata": {},
     "output_type": "execute_result"
    }
   ],
   "source": [
    "raw_data = pd.read_csv(\"public_cars.csv\")\n",
    "raw_data.head()"
   ]
  },
  {
   "cell_type": "code",
   "execution_count": 3,
   "metadata": {},
   "outputs": [],
   "source": [
    "from sklearn.datasets import load_diabetes\n"
   ]
  },
  {
   "cell_type": "code",
   "execution_count": 4,
   "metadata": {
    "scrolled": false
   },
   "outputs": [
    {
     "data": {
      "text/html": [
       "<div>\n",
       "<style scoped>\n",
       "    .dataframe tbody tr th:only-of-type {\n",
       "        vertical-align: middle;\n",
       "    }\n",
       "\n",
       "    .dataframe tbody tr th {\n",
       "        vertical-align: top;\n",
       "    }\n",
       "\n",
       "    .dataframe thead th {\n",
       "        text-align: right;\n",
       "    }\n",
       "</style>\n",
       "<table border=\"1\" class=\"dataframe\">\n",
       "  <thead>\n",
       "    <tr style=\"text-align: right;\">\n",
       "      <th></th>\n",
       "      <th>manufacturer_name</th>\n",
       "      <th>model_name</th>\n",
       "      <th>transmission</th>\n",
       "      <th>color</th>\n",
       "      <th>odometer_value</th>\n",
       "      <th>year_produced</th>\n",
       "      <th>engine_fuel</th>\n",
       "      <th>engine_has_gas</th>\n",
       "      <th>engine_type</th>\n",
       "      <th>engine_capacity</th>\n",
       "      <th>...</th>\n",
       "      <th>feature_2</th>\n",
       "      <th>feature_3</th>\n",
       "      <th>feature_4</th>\n",
       "      <th>feature_5</th>\n",
       "      <th>feature_6</th>\n",
       "      <th>feature_7</th>\n",
       "      <th>feature_8</th>\n",
       "      <th>feature_9</th>\n",
       "      <th>duration_listed</th>\n",
       "      <th>price_usd</th>\n",
       "    </tr>\n",
       "  </thead>\n",
       "  <tbody>\n",
       "    <tr>\n",
       "      <th>count</th>\n",
       "      <td>30824</td>\n",
       "      <td>30824</td>\n",
       "      <td>30824</td>\n",
       "      <td>30824</td>\n",
       "      <td>30824.000000</td>\n",
       "      <td>30824.000000</td>\n",
       "      <td>30824</td>\n",
       "      <td>30824</td>\n",
       "      <td>30824</td>\n",
       "      <td>30816.000000</td>\n",
       "      <td>...</td>\n",
       "      <td>30824</td>\n",
       "      <td>30824</td>\n",
       "      <td>30824</td>\n",
       "      <td>30824</td>\n",
       "      <td>30824</td>\n",
       "      <td>30824</td>\n",
       "      <td>30824</td>\n",
       "      <td>30824</td>\n",
       "      <td>30824.000000</td>\n",
       "      <td>30824.000000</td>\n",
       "    </tr>\n",
       "    <tr>\n",
       "      <th>unique</th>\n",
       "      <td>55</td>\n",
       "      <td>1070</td>\n",
       "      <td>2</td>\n",
       "      <td>12</td>\n",
       "      <td>NaN</td>\n",
       "      <td>NaN</td>\n",
       "      <td>6</td>\n",
       "      <td>2</td>\n",
       "      <td>3</td>\n",
       "      <td>NaN</td>\n",
       "      <td>...</td>\n",
       "      <td>2</td>\n",
       "      <td>2</td>\n",
       "      <td>2</td>\n",
       "      <td>2</td>\n",
       "      <td>2</td>\n",
       "      <td>2</td>\n",
       "      <td>2</td>\n",
       "      <td>2</td>\n",
       "      <td>NaN</td>\n",
       "      <td>NaN</td>\n",
       "    </tr>\n",
       "    <tr>\n",
       "      <th>top</th>\n",
       "      <td>Volkswagen</td>\n",
       "      <td>Passat</td>\n",
       "      <td>mechanical</td>\n",
       "      <td>black</td>\n",
       "      <td>NaN</td>\n",
       "      <td>NaN</td>\n",
       "      <td>gasoline</td>\n",
       "      <td>False</td>\n",
       "      <td>gasoline</td>\n",
       "      <td>NaN</td>\n",
       "      <td>...</td>\n",
       "      <td>False</td>\n",
       "      <td>False</td>\n",
       "      <td>False</td>\n",
       "      <td>False</td>\n",
       "      <td>False</td>\n",
       "      <td>False</td>\n",
       "      <td>False</td>\n",
       "      <td>True</td>\n",
       "      <td>NaN</td>\n",
       "      <td>NaN</td>\n",
       "    </tr>\n",
       "    <tr>\n",
       "      <th>freq</th>\n",
       "      <td>3406</td>\n",
       "      <td>1153</td>\n",
       "      <td>20493</td>\n",
       "      <td>6162</td>\n",
       "      <td>NaN</td>\n",
       "      <td>NaN</td>\n",
       "      <td>19259</td>\n",
       "      <td>29754</td>\n",
       "      <td>20511</td>\n",
       "      <td>NaN</td>\n",
       "      <td>...</td>\n",
       "      <td>23945</td>\n",
       "      <td>22341</td>\n",
       "      <td>23417</td>\n",
       "      <td>19916</td>\n",
       "      <td>25599</td>\n",
       "      <td>22767</td>\n",
       "      <td>18043</td>\n",
       "      <td>17787</td>\n",
       "      <td>NaN</td>\n",
       "      <td>NaN</td>\n",
       "    </tr>\n",
       "    <tr>\n",
       "      <th>mean</th>\n",
       "      <td>NaN</td>\n",
       "      <td>NaN</td>\n",
       "      <td>NaN</td>\n",
       "      <td>NaN</td>\n",
       "      <td>248803.130515</td>\n",
       "      <td>2002.939690</td>\n",
       "      <td>NaN</td>\n",
       "      <td>NaN</td>\n",
       "      <td>NaN</td>\n",
       "      <td>2.054232</td>\n",
       "      <td>...</td>\n",
       "      <td>NaN</td>\n",
       "      <td>NaN</td>\n",
       "      <td>NaN</td>\n",
       "      <td>NaN</td>\n",
       "      <td>NaN</td>\n",
       "      <td>NaN</td>\n",
       "      <td>NaN</td>\n",
       "      <td>NaN</td>\n",
       "      <td>80.344407</td>\n",
       "      <td>6630.598604</td>\n",
       "    </tr>\n",
       "    <tr>\n",
       "      <th>std</th>\n",
       "      <td>NaN</td>\n",
       "      <td>NaN</td>\n",
       "      <td>NaN</td>\n",
       "      <td>NaN</td>\n",
       "      <td>135760.720763</td>\n",
       "      <td>8.048786</td>\n",
       "      <td>NaN</td>\n",
       "      <td>NaN</td>\n",
       "      <td>NaN</td>\n",
       "      <td>0.667535</td>\n",
       "      <td>...</td>\n",
       "      <td>NaN</td>\n",
       "      <td>NaN</td>\n",
       "      <td>NaN</td>\n",
       "      <td>NaN</td>\n",
       "      <td>NaN</td>\n",
       "      <td>NaN</td>\n",
       "      <td>NaN</td>\n",
       "      <td>NaN</td>\n",
       "      <td>112.656926</td>\n",
       "      <td>6412.213626</td>\n",
       "    </tr>\n",
       "    <tr>\n",
       "      <th>min</th>\n",
       "      <td>NaN</td>\n",
       "      <td>NaN</td>\n",
       "      <td>NaN</td>\n",
       "      <td>NaN</td>\n",
       "      <td>0.000000</td>\n",
       "      <td>1950.000000</td>\n",
       "      <td>NaN</td>\n",
       "      <td>NaN</td>\n",
       "      <td>NaN</td>\n",
       "      <td>0.200000</td>\n",
       "      <td>...</td>\n",
       "      <td>NaN</td>\n",
       "      <td>NaN</td>\n",
       "      <td>NaN</td>\n",
       "      <td>NaN</td>\n",
       "      <td>NaN</td>\n",
       "      <td>NaN</td>\n",
       "      <td>NaN</td>\n",
       "      <td>NaN</td>\n",
       "      <td>0.000000</td>\n",
       "      <td>1.000000</td>\n",
       "    </tr>\n",
       "    <tr>\n",
       "      <th>25%</th>\n",
       "      <td>NaN</td>\n",
       "      <td>NaN</td>\n",
       "      <td>NaN</td>\n",
       "      <td>NaN</td>\n",
       "      <td>158146.500000</td>\n",
       "      <td>1998.000000</td>\n",
       "      <td>NaN</td>\n",
       "      <td>NaN</td>\n",
       "      <td>NaN</td>\n",
       "      <td>1.600000</td>\n",
       "      <td>...</td>\n",
       "      <td>NaN</td>\n",
       "      <td>NaN</td>\n",
       "      <td>NaN</td>\n",
       "      <td>NaN</td>\n",
       "      <td>NaN</td>\n",
       "      <td>NaN</td>\n",
       "      <td>NaN</td>\n",
       "      <td>NaN</td>\n",
       "      <td>23.000000</td>\n",
       "      <td>2145.857500</td>\n",
       "    </tr>\n",
       "    <tr>\n",
       "      <th>50%</th>\n",
       "      <td>NaN</td>\n",
       "      <td>NaN</td>\n",
       "      <td>NaN</td>\n",
       "      <td>NaN</td>\n",
       "      <td>250000.000000</td>\n",
       "      <td>2003.000000</td>\n",
       "      <td>NaN</td>\n",
       "      <td>NaN</td>\n",
       "      <td>NaN</td>\n",
       "      <td>2.000000</td>\n",
       "      <td>...</td>\n",
       "      <td>NaN</td>\n",
       "      <td>NaN</td>\n",
       "      <td>NaN</td>\n",
       "      <td>NaN</td>\n",
       "      <td>NaN</td>\n",
       "      <td>NaN</td>\n",
       "      <td>NaN</td>\n",
       "      <td>NaN</td>\n",
       "      <td>59.000000</td>\n",
       "      <td>4800.000000</td>\n",
       "    </tr>\n",
       "    <tr>\n",
       "      <th>75%</th>\n",
       "      <td>NaN</td>\n",
       "      <td>NaN</td>\n",
       "      <td>NaN</td>\n",
       "      <td>NaN</td>\n",
       "      <td>325000.000000</td>\n",
       "      <td>2009.000000</td>\n",
       "      <td>NaN</td>\n",
       "      <td>NaN</td>\n",
       "      <td>NaN</td>\n",
       "      <td>2.300000</td>\n",
       "      <td>...</td>\n",
       "      <td>NaN</td>\n",
       "      <td>NaN</td>\n",
       "      <td>NaN</td>\n",
       "      <td>NaN</td>\n",
       "      <td>NaN</td>\n",
       "      <td>NaN</td>\n",
       "      <td>NaN</td>\n",
       "      <td>NaN</td>\n",
       "      <td>91.000000</td>\n",
       "      <td>8950.000000</td>\n",
       "    </tr>\n",
       "    <tr>\n",
       "      <th>max</th>\n",
       "      <td>NaN</td>\n",
       "      <td>NaN</td>\n",
       "      <td>NaN</td>\n",
       "      <td>NaN</td>\n",
       "      <td>1000000.000000</td>\n",
       "      <td>2019.000000</td>\n",
       "      <td>NaN</td>\n",
       "      <td>NaN</td>\n",
       "      <td>NaN</td>\n",
       "      <td>7.500000</td>\n",
       "      <td>...</td>\n",
       "      <td>NaN</td>\n",
       "      <td>NaN</td>\n",
       "      <td>NaN</td>\n",
       "      <td>NaN</td>\n",
       "      <td>NaN</td>\n",
       "      <td>NaN</td>\n",
       "      <td>NaN</td>\n",
       "      <td>NaN</td>\n",
       "      <td>2232.000000</td>\n",
       "      <td>50000.000000</td>\n",
       "    </tr>\n",
       "  </tbody>\n",
       "</table>\n",
       "<p>11 rows × 26 columns</p>\n",
       "</div>"
      ],
      "text/plain": [
       "       manufacturer_name model_name transmission  color  odometer_value  \\\n",
       "count              30824      30824        30824  30824    30824.000000   \n",
       "unique                55       1070            2     12             NaN   \n",
       "top           Volkswagen     Passat   mechanical  black             NaN   \n",
       "freq                3406       1153        20493   6162             NaN   \n",
       "mean                 NaN        NaN          NaN    NaN   248803.130515   \n",
       "std                  NaN        NaN          NaN    NaN   135760.720763   \n",
       "min                  NaN        NaN          NaN    NaN        0.000000   \n",
       "25%                  NaN        NaN          NaN    NaN   158146.500000   \n",
       "50%                  NaN        NaN          NaN    NaN   250000.000000   \n",
       "75%                  NaN        NaN          NaN    NaN   325000.000000   \n",
       "max                  NaN        NaN          NaN    NaN  1000000.000000   \n",
       "\n",
       "        year_produced engine_fuel engine_has_gas engine_type  engine_capacity  \\\n",
       "count    30824.000000       30824          30824       30824     30816.000000   \n",
       "unique            NaN           6              2           3              NaN   \n",
       "top               NaN    gasoline          False    gasoline              NaN   \n",
       "freq              NaN       19259          29754       20511              NaN   \n",
       "mean      2002.939690         NaN            NaN         NaN         2.054232   \n",
       "std          8.048786         NaN            NaN         NaN         0.667535   \n",
       "min       1950.000000         NaN            NaN         NaN         0.200000   \n",
       "25%       1998.000000         NaN            NaN         NaN         1.600000   \n",
       "50%       2003.000000         NaN            NaN         NaN         2.000000   \n",
       "75%       2009.000000         NaN            NaN         NaN         2.300000   \n",
       "max       2019.000000         NaN            NaN         NaN         7.500000   \n",
       "\n",
       "        ... feature_2 feature_3 feature_4 feature_5 feature_6 feature_7  \\\n",
       "count   ...     30824     30824     30824     30824     30824     30824   \n",
       "unique  ...         2         2         2         2         2         2   \n",
       "top     ...     False     False     False     False     False     False   \n",
       "freq    ...     23945     22341     23417     19916     25599     22767   \n",
       "mean    ...       NaN       NaN       NaN       NaN       NaN       NaN   \n",
       "std     ...       NaN       NaN       NaN       NaN       NaN       NaN   \n",
       "min     ...       NaN       NaN       NaN       NaN       NaN       NaN   \n",
       "25%     ...       NaN       NaN       NaN       NaN       NaN       NaN   \n",
       "50%     ...       NaN       NaN       NaN       NaN       NaN       NaN   \n",
       "75%     ...       NaN       NaN       NaN       NaN       NaN       NaN   \n",
       "max     ...       NaN       NaN       NaN       NaN       NaN       NaN   \n",
       "\n",
       "       feature_8 feature_9 duration_listed     price_usd  \n",
       "count      30824     30824    30824.000000  30824.000000  \n",
       "unique         2         2             NaN           NaN  \n",
       "top        False      True             NaN           NaN  \n",
       "freq       18043     17787             NaN           NaN  \n",
       "mean         NaN       NaN       80.344407   6630.598604  \n",
       "std          NaN       NaN      112.656926   6412.213626  \n",
       "min          NaN       NaN        0.000000      1.000000  \n",
       "25%          NaN       NaN       23.000000   2145.857500  \n",
       "50%          NaN       NaN       59.000000   4800.000000  \n",
       "75%          NaN       NaN       91.000000   8950.000000  \n",
       "max          NaN       NaN     2232.000000  50000.000000  \n",
       "\n",
       "[11 rows x 26 columns]"
      ]
     },
     "execution_count": 4,
     "metadata": {},
     "output_type": "execute_result"
    }
   ],
   "source": [
    "raw_data.describe(include=\"all\")"
   ]
  },
  {
   "cell_type": "code",
   "execution_count": 5,
   "metadata": {},
   "outputs": [
    {
     "data": {
      "text/html": [
       "<div>\n",
       "<style scoped>\n",
       "    .dataframe tbody tr th:only-of-type {\n",
       "        vertical-align: middle;\n",
       "    }\n",
       "\n",
       "    .dataframe tbody tr th {\n",
       "        vertical-align: top;\n",
       "    }\n",
       "\n",
       "    .dataframe thead th {\n",
       "        text-align: right;\n",
       "    }\n",
       "</style>\n",
       "<table border=\"1\" class=\"dataframe\">\n",
       "  <thead>\n",
       "    <tr style=\"text-align: right;\">\n",
       "      <th></th>\n",
       "      <th>odometer_value</th>\n",
       "      <th>year_produced</th>\n",
       "      <th>engine_capacity</th>\n",
       "      <th>duration_listed</th>\n",
       "      <th>price_usd</th>\n",
       "    </tr>\n",
       "  </thead>\n",
       "  <tbody>\n",
       "    <tr>\n",
       "      <th>count</th>\n",
       "      <td>30824.000000</td>\n",
       "      <td>30824.000000</td>\n",
       "      <td>30816.000000</td>\n",
       "      <td>30824.000000</td>\n",
       "      <td>30824.000000</td>\n",
       "    </tr>\n",
       "    <tr>\n",
       "      <th>mean</th>\n",
       "      <td>248803.130515</td>\n",
       "      <td>2002.939690</td>\n",
       "      <td>2.054232</td>\n",
       "      <td>80.344407</td>\n",
       "      <td>6630.598604</td>\n",
       "    </tr>\n",
       "    <tr>\n",
       "      <th>std</th>\n",
       "      <td>135760.720763</td>\n",
       "      <td>8.048786</td>\n",
       "      <td>0.667535</td>\n",
       "      <td>112.656926</td>\n",
       "      <td>6412.213626</td>\n",
       "    </tr>\n",
       "    <tr>\n",
       "      <th>min</th>\n",
       "      <td>0.000000</td>\n",
       "      <td>1950.000000</td>\n",
       "      <td>0.200000</td>\n",
       "      <td>0.000000</td>\n",
       "      <td>1.000000</td>\n",
       "    </tr>\n",
       "    <tr>\n",
       "      <th>25%</th>\n",
       "      <td>158146.500000</td>\n",
       "      <td>1998.000000</td>\n",
       "      <td>1.600000</td>\n",
       "      <td>23.000000</td>\n",
       "      <td>2145.857500</td>\n",
       "    </tr>\n",
       "    <tr>\n",
       "      <th>50%</th>\n",
       "      <td>250000.000000</td>\n",
       "      <td>2003.000000</td>\n",
       "      <td>2.000000</td>\n",
       "      <td>59.000000</td>\n",
       "      <td>4800.000000</td>\n",
       "    </tr>\n",
       "    <tr>\n",
       "      <th>75%</th>\n",
       "      <td>325000.000000</td>\n",
       "      <td>2009.000000</td>\n",
       "      <td>2.300000</td>\n",
       "      <td>91.000000</td>\n",
       "      <td>8950.000000</td>\n",
       "    </tr>\n",
       "    <tr>\n",
       "      <th>max</th>\n",
       "      <td>1000000.000000</td>\n",
       "      <td>2019.000000</td>\n",
       "      <td>7.500000</td>\n",
       "      <td>2232.000000</td>\n",
       "      <td>50000.000000</td>\n",
       "    </tr>\n",
       "  </tbody>\n",
       "</table>\n",
       "</div>"
      ],
      "text/plain": [
       "       odometer_value  year_produced  engine_capacity  duration_listed  \\\n",
       "count    30824.000000   30824.000000     30816.000000     30824.000000   \n",
       "mean    248803.130515    2002.939690         2.054232        80.344407   \n",
       "std     135760.720763       8.048786         0.667535       112.656926   \n",
       "min          0.000000    1950.000000         0.200000         0.000000   \n",
       "25%     158146.500000    1998.000000         1.600000        23.000000   \n",
       "50%     250000.000000    2003.000000         2.000000        59.000000   \n",
       "75%     325000.000000    2009.000000         2.300000        91.000000   \n",
       "max    1000000.000000    2019.000000         7.500000      2232.000000   \n",
       "\n",
       "          price_usd  \n",
       "count  30824.000000  \n",
       "mean    6630.598604  \n",
       "std     6412.213626  \n",
       "min        1.000000  \n",
       "25%     2145.857500  \n",
       "50%     4800.000000  \n",
       "75%     8950.000000  \n",
       "max    50000.000000  "
      ]
     },
     "execution_count": 5,
     "metadata": {},
     "output_type": "execute_result"
    }
   ],
   "source": [
    "raw_data.describe()"
   ]
  },
  {
   "cell_type": "code",
   "execution_count": 6,
   "metadata": {},
   "outputs": [
    {
     "data": {
      "text/plain": [
       "manufacturer_name     object\n",
       "model_name            object\n",
       "transmission          object\n",
       "color                 object\n",
       "odometer_value         int64\n",
       "year_produced          int64\n",
       "engine_fuel           object\n",
       "engine_has_gas          bool\n",
       "engine_type           object\n",
       "engine_capacity      float64\n",
       "body_type             object\n",
       "has_warranty            bool\n",
       "state                 object\n",
       "drivetrain            object\n",
       "feature_0               bool\n",
       "feature_1               bool\n",
       "feature_2               bool\n",
       "feature_3               bool\n",
       "feature_4               bool\n",
       "feature_5               bool\n",
       "feature_6               bool\n",
       "feature_7               bool\n",
       "feature_8               bool\n",
       "feature_9               bool\n",
       "duration_listed        int64\n",
       "price_usd            float64\n",
       "dtype: object"
      ]
     },
     "execution_count": 6,
     "metadata": {},
     "output_type": "execute_result"
    }
   ],
   "source": [
    "raw_data.dtypes"
   ]
  },
  {
   "cell_type": "code",
   "execution_count": 7,
   "metadata": {},
   "outputs": [
    {
     "data": {
      "text/plain": [
       "manufacturer_name       int8\n",
       "model_name             int16\n",
       "transmission            int8\n",
       "color                   int8\n",
       "odometer_value         int64\n",
       "year_produced          int64\n",
       "engine_fuel             int8\n",
       "engine_has_gas          int8\n",
       "engine_type             int8\n",
       "engine_capacity      float64\n",
       "body_type               int8\n",
       "has_warranty            int8\n",
       "state                   int8\n",
       "drivetrain              int8\n",
       "feature_0               int8\n",
       "feature_1               int8\n",
       "feature_2               int8\n",
       "feature_3               int8\n",
       "feature_4               int8\n",
       "feature_5               int8\n",
       "feature_6               int8\n",
       "feature_7               int8\n",
       "feature_8               int8\n",
       "feature_9               int8\n",
       "duration_listed        int64\n",
       "price_usd            float64\n",
       "dtype: object"
      ]
     },
     "execution_count": 7,
     "metadata": {},
     "output_type": "execute_result"
    }
   ],
   "source": [
    "raw_data[\"manufacturer_name\"] = raw_data[\"manufacturer_name\"].astype('category')\n",
    "raw_data[\"manufacturer_name\"] = raw_data[\"manufacturer_name\"].cat.codes\n",
    "\n",
    "raw_data[\"model_name\"] = raw_data[\"model_name\"].astype('category')\n",
    "raw_data[\"model_name\"] = raw_data[\"model_name\"].cat.codes\n",
    "\n",
    "raw_data[\"transmission\"] = raw_data[\"transmission\"].astype('category')\n",
    "raw_data[\"transmission\"] = raw_data[\"transmission\"].cat.codes\n",
    "\n",
    "raw_data[\"color\"] = raw_data[\"color\"].astype('category')\n",
    "raw_data[\"color\"] = raw_data[\"color\"].cat.codes\n",
    "\n",
    "raw_data[\"engine_fuel\"] = raw_data[\"engine_fuel\"].astype('category')\n",
    "raw_data[\"engine_fuel\"] = raw_data[\"engine_fuel\"].cat.codes\n",
    "\n",
    "raw_data[\"engine_type\"] = raw_data[\"engine_type\"].astype('category')\n",
    "raw_data[\"engine_type\"] = raw_data[\"engine_type\"].cat.codes\n",
    "\n",
    "raw_data[\"engine_has_gas\"] = raw_data[\"engine_has_gas\"].astype('category')\n",
    "raw_data[\"engine_has_gas\"] = raw_data[\"engine_has_gas\"].cat.codes\n",
    "\n",
    "raw_data[\"body_type\"] = raw_data[\"body_type\"].astype('category')\n",
    "raw_data[\"body_type\"] = raw_data[\"body_type\"].cat.codes\n",
    "\n",
    "raw_data[\"has_warranty\"] = raw_data[\"has_warranty\"].astype('category')\n",
    "raw_data[\"has_warranty\"] = raw_data[\"has_warranty\"].cat.codes\n",
    "\n",
    "raw_data[\"state\"] = raw_data[\"state\"].astype('category')\n",
    "raw_data[\"state\"] = raw_data[\"state\"].cat.codes\n",
    "\n",
    "raw_data[\"drivetrain\"] = raw_data[\"drivetrain\"].astype('category')\n",
    "raw_data[\"drivetrain\"] = raw_data[\"drivetrain\"].cat.codes\n",
    "\n",
    "for x in range(10):\n",
    "    raw_data[\"feature_\"+str(x)] = raw_data[\"feature_\"+str(x)].astype('category')\n",
    "    raw_data[\"feature_\"+str(x)] = raw_data[\"feature_\"+str(x)].cat.codes\n",
    "    \n",
    "raw_data.dtypes"
   ]
  },
  {
   "cell_type": "code",
   "execution_count": 8,
   "metadata": {},
   "outputs": [],
   "source": [
    "raw_data.isnull().sum()\n",
    "data=raw_data"
   ]
  },
  {
   "cell_type": "code",
   "execution_count": 9,
   "metadata": {},
   "outputs": [
    {
     "data": {
      "text/plain": [
       "manufacturer_name    0\n",
       "model_name           0\n",
       "transmission         0\n",
       "color                0\n",
       "odometer_value       0\n",
       "year_produced        0\n",
       "engine_fuel          0\n",
       "engine_has_gas       0\n",
       "engine_type          0\n",
       "engine_capacity      0\n",
       "body_type            0\n",
       "has_warranty         0\n",
       "state                0\n",
       "drivetrain           0\n",
       "feature_0            0\n",
       "feature_1            0\n",
       "feature_2            0\n",
       "feature_3            0\n",
       "feature_4            0\n",
       "feature_5            0\n",
       "feature_6            0\n",
       "feature_7            0\n",
       "feature_8            0\n",
       "feature_9            0\n",
       "duration_listed      0\n",
       "price_usd            0\n",
       "dtype: int64"
      ]
     },
     "execution_count": 9,
     "metadata": {},
     "output_type": "execute_result"
    }
   ],
   "source": [
    "data.isnull().sum()\n",
    "data = data.dropna()\n",
    "data.isnull().sum()"
   ]
  },
  {
   "cell_type": "code",
   "execution_count": 10,
   "metadata": {},
   "outputs": [],
   "source": [
    "targets = data['price_usd']\n",
    "inputs = data.drop(['price_usd'],axis=1)"
   ]
  },
  {
   "cell_type": "code",
   "execution_count": 11,
   "metadata": {},
   "outputs": [],
   "source": [
    "from sklearn.preprocessing import StandardScaler\n",
    "\n",
    "scaler = StandardScaler()\n",
    "scaler.fit(inputs)\n",
    "inputs_scaled = scaler.transform(inputs)"
   ]
  },
  {
   "cell_type": "code",
   "execution_count": 12,
   "metadata": {},
   "outputs": [
    {
     "ename": "NameError",
     "evalue": "name 'train_test_split' is not defined",
     "output_type": "error",
     "traceback": [
      "\u001b[1;31m---------------------------------------------------------------------------\u001b[0m",
      "\u001b[1;31mNameError\u001b[0m                                 Traceback (most recent call last)",
      "\u001b[1;32m<ipython-input-12-d78ae6c9dc76>\u001b[0m in \u001b[0;36m<module>\u001b[1;34m\u001b[0m\n\u001b[1;32m----> 1\u001b[1;33m \u001b[0mx_train\u001b[0m\u001b[1;33m,\u001b[0m \u001b[0mx_test\u001b[0m\u001b[1;33m,\u001b[0m \u001b[0my_train\u001b[0m\u001b[1;33m,\u001b[0m \u001b[0my_test\u001b[0m \u001b[1;33m=\u001b[0m \u001b[0mtrain_test_split\u001b[0m\u001b[1;33m(\u001b[0m\u001b[0minputs\u001b[0m\u001b[1;33m,\u001b[0m\u001b[0mtargets\u001b[0m\u001b[1;33m,\u001b[0m \u001b[0mtest_size\u001b[0m\u001b[1;33m=\u001b[0m\u001b[1;36m0.2\u001b[0m\u001b[1;33m,\u001b[0m \u001b[0mrandom_state\u001b[0m\u001b[1;33m=\u001b[0m\u001b[1;36m365\u001b[0m\u001b[1;33m)\u001b[0m\u001b[1;33m\u001b[0m\u001b[1;33m\u001b[0m\u001b[0m\n\u001b[0m",
      "\u001b[1;31mNameError\u001b[0m: name 'train_test_split' is not defined"
     ]
    }
   ],
   "source": [
    "x_train, x_test, y_train, y_test = train_test_split(inputs,targets, test_size=0.2, random_state=365)"
   ]
  },
  {
   "cell_type": "code",
   "execution_count": null,
   "metadata": {},
   "outputs": [],
   "source": [
    "reg = LinearRegression()\n",
    "reg.fit(x_train,y_train)\n",
    "y_hat = reg.predict(x_test)\n",
    "calculate_error_table(y_test, y_hat)\n",
    "display_pred_with_test(y_test, y_hat)"
   ]
  },
  {
   "cell_type": "code",
   "execution_count": null,
   "metadata": {},
   "outputs": [],
   "source": [
    "from sklearn.linear_model import Ridge\n",
    "clf = Ridge(alpha=0.1)\n",
    "clf.fit(x_train, y_train)\n",
    "clf.score(x_test,y_test)\n",
    "y_hat_ridge = clf.predict(x_test)\n",
    "calculate_error_table(y_test, y_hat_ridge)"
   ]
  },
  {
   "cell_type": "code",
   "execution_count": null,
   "metadata": {},
   "outputs": [],
   "source": [
    "from sklearn import linear_model\n",
    "clf_lasso = linear_model.Lasso(alpha=0.2)\n",
    "clf_lasso.fit(x_train, y_train)\n",
    "y_hat_lasso = clf_lasso.predict(x_test)\n",
    "calculate_error_table(y_test, y_hat_lasso)"
   ]
  },
  {
   "cell_type": "markdown",
   "metadata": {},
   "source": [
    "# Normalizing"
   ]
  },
  {
   "cell_type": "code",
   "execution_count": null,
   "metadata": {},
   "outputs": [],
   "source": [
    "norm_data = data\n",
    "means = pd.DataFrame()\n",
    "stds = pd.DataFrame()\n",
    "\n",
    "for i in data:\n",
    "    mean = data[i].mean()\n",
    "    std = data[i].std()\n",
    "    norm = (data[i]-mean)/std\n",
    "    norm_data[i]=norm\n",
    "    means[i] = [mean]\n",
    "    stds[i] = [std]"
   ]
  },
  {
   "cell_type": "code",
   "execution_count": null,
   "metadata": {},
   "outputs": [],
   "source": [
    "print(means['price_usd'][0])"
   ]
  },
  {
   "cell_type": "code",
   "execution_count": null,
   "metadata": {},
   "outputs": [],
   "source": [
    "targets = norm_data['price_usd']\n",
    "inputs = norm_data.drop(['price_usd'],axis=1)"
   ]
  },
  {
   "cell_type": "code",
   "execution_count": null,
   "metadata": {},
   "outputs": [],
   "source": [
    "from sklearn.preprocessing import StandardScaler\n",
    "\n",
    "scaler = StandardScaler()\n",
    "scaler.fit(inputs)\n",
    "inputs_scaled = scaler.transform(inputs)"
   ]
  },
  {
   "cell_type": "code",
   "execution_count": null,
   "metadata": {},
   "outputs": [],
   "source": [
    "x_train, x_test, y_train, y_test = train_test_split(inputs,targets, test_size=0.2, random_state=365)"
   ]
  },
  {
   "cell_type": "code",
   "execution_count": null,
   "metadata": {},
   "outputs": [],
   "source": [
    "reg = LinearRegression()\n",
    "reg.fit(x_train,y_train)\n",
    "y_hat = reg.predict(x_test)\n",
    "calculate_error_table(y_test, y_hat)\n",
    "display_pred_with_test(y_test, y_hat)\n",
    "\n",
    "y_hat_denorm = y_hat\n",
    "y_hat_denorm[1]=20\n",
    "print(\"y_hat_denorm\",y_hat_denorm[1])\n",
    "index=0\n",
    "for i in y_hat:\n",
    "    y_hat_denorm[index] = (i*stds['price_usd'][0])+means['price_usd'][0]\n",
    "    index+=1;\n",
    "\n",
    "# for i in y_test:\n",
    "#     print(\"i\",i)\n",
    "#     y_hat_denorm = (i*stds['price_usd'][0])+means['price_usd'][0]\n",
    "    \n",
    "# y_hat_denorm = (y_hat*stds['price_usd'][0])+means['price_usd'][0]\n",
    "# y_test_denorm = (y_test*stds['price_usd'][0])+means['price_usd'][0]\n",
    "print(\"y_hat_denorm\",y_hat_denorm)\n",
    "print(y_hat)\n",
    "print(y_test_denorm.describe())\n",
    "print(y_test)\n",
    "\n",
    "# display_pred_with_test(y_test_denorm,y_hat_denorm)\n",
    "# y_hat_denorm = y_hat+1"
   ]
  },
  {
   "cell_type": "code",
   "execution_count": null,
   "metadata": {},
   "outputs": [],
   "source": [
    "print(\"y_hat_denorm\",y_hat_denorm)\n"
   ]
  },
  {
   "cell_type": "code",
   "execution_count": null,
   "metadata": {},
   "outputs": [],
   "source": [
    "\n",
    "# for i in data.columns.values:\n",
    "# sns.distplot(scaled_df['manufacturer_name'])"
   ]
  },
  {
   "cell_type": "code",
   "execution_count": 13,
   "metadata": {},
   "outputs": [],
   "source": [
    "# for i in data:\n",
    "#     print(data[i])"
   ]
  },
  {
   "cell_type": "code",
   "execution_count": 14,
   "metadata": {},
   "outputs": [
    {
     "data": {
      "text/plain": [
       "<AxesSubplot:xlabel='year_produced'>"
      ]
     },
     "execution_count": 14,
     "metadata": {},
     "output_type": "execute_result"
    },
    {
     "data": {
      "image/png": "[encoded data removed]",
      "text/plain": [
       "<Figure size 432x288 with 1 Axes>"
      ]
     },
     "metadata": {},
     "output_type": "display_data"
    }
   ],
   "source": [
    "q=data['year_produced'].quantile(0.005)\n",
    "data1=data[data['year_produced']>q]\n",
    "sns.distplot(data1['year_produced'])"
   ]
  },
  {
   "cell_type": "code",
   "execution_count": 16,
   "metadata": {},
   "outputs": [],
   "source": [
    "# sns.distplot(data1['odometer_value'])"
   ]
  },
  {
   "cell_type": "code",
   "execution_count": 17,
   "metadata": {},
   "outputs": [],
   "source": [
    "# q = data1['odometer_value'].quantile(0.9918)\n",
    "# data2 = data1[data1['odometer_value']<q]\n",
    "# sns.distplot(data2['odometer_value'])"
   ]
  },
  {
   "cell_type": "code",
   "execution_count": 18,
   "metadata": {},
   "outputs": [],
   "source": [
    "# sns.distplot(data2['engine_capacity'])"
   ]
  },
  {
   "cell_type": "code",
   "execution_count": 19,
   "metadata": {},
   "outputs": [],
   "source": [
    "# q= data2['engine_capacity'].quantile(0.99)\n",
    "# data3=data2[data2['engine_capacity']<q]\n",
    "# sns.distplot(data3['engine_capacity'])"
   ]
  },
  {
   "cell_type": "code",
   "execution_count": 20,
   "metadata": {},
   "outputs": [],
   "source": [
    "# sns.distplot(data3['duration_listed'])"
   ]
  },
  {
   "cell_type": "code",
   "execution_count": 21,
   "metadata": {},
   "outputs": [],
   "source": [
    "# q=data3['duration_listed'].quantile(0.80)\n",
    "# data4= data3[data3['duration_listed']<q]\n",
    "# data4.describe(include=\"all\")\n",
    "# sns.distplot(data4['duration_listed'])"
   ]
  },
  {
   "cell_type": "code",
   "execution_count": 22,
   "metadata": {},
   "outputs": [],
   "source": [
    "# sns.distplot(data4['price_usd'])"
   ]
  },
  {
   "cell_type": "code",
   "execution_count": 23,
   "metadata": {},
   "outputs": [],
   "source": [
    "# q=data4['price_usd'].quantile(0.89)\n",
    "# data5= data4[data4['price_usd']<q]\n",
    "# sns.distplot(data5['price_usd'])"
   ]
  },
  {
   "cell_type": "code",
   "execution_count": 24,
   "metadata": {},
   "outputs": [],
   "source": [
    "# data_cleaned = data.reset_index(drop=True)"
   ]
  },
  {
   "cell_type": "code",
   "execution_count": 25,
   "metadata": {},
   "outputs": [
    {
     "data": {
      "text/plain": [
       "manufacturer_name    0\n",
       "model_name           0\n",
       "transmission         0\n",
       "color                0\n",
       "odometer_value       0\n",
       "year_produced        0\n",
       "engine_fuel          0\n",
       "engine_has_gas       0\n",
       "engine_type          0\n",
       "engine_capacity      0\n",
       "body_type            0\n",
       "has_warranty         0\n",
       "state                0\n",
       "drivetrain           0\n",
       "feature_0            0\n",
       "feature_1            0\n",
       "feature_2            0\n",
       "feature_3            0\n",
       "feature_4            0\n",
       "feature_5            0\n",
       "feature_6            0\n",
       "feature_7            0\n",
       "feature_8            0\n",
       "feature_9            0\n",
       "duration_listed      0\n",
       "price_usd            0\n",
       "dtype: int64"
      ]
     },
     "execution_count": 25,
     "metadata": {},
     "output_type": "execute_result"
    }
   ],
   "source": []
  },
  {
   "cell_type": "code",
   "execution_count": 26,
   "metadata": {},
   "outputs": [],
   "source": [
    "# data"
   ]
  },
  {
   "cell_type": "code",
   "execution_count": 27,
   "metadata": {},
   "outputs": [],
   "source": [
    "# log_price = np.log(data['price_usd'])\n",
    "# data['log_price'] = log_price\n",
    "# data"
   ]
  },
  {
   "cell_type": "code",
   "execution_count": null,
   "metadata": {},
   "outputs": [],
   "source": []
  },
  {
   "cell_type": "code",
   "execution_count": 28,
   "metadata": {},
   "outputs": [],
   "source": [
    "# data_cleaned = data.drop(['price_usd'],axis=1)\n",
    "# data_cleaned"
   ]
  },
  {
   "cell_type": "code",
   "execution_count": 29,
   "metadata": {},
   "outputs": [],
   "source": [
    "# data_with_dummies = pd.get_dummies(data_cleaned,drop_first=True)\n",
    "# data_with_dummies.head()"
   ]
  },
  {
   "cell_type": "code",
   "execution_count": 30,
   "metadata": {},
   "outputs": [],
   "source": [
    "# data_with_dummies = data_with_dummies['engine_has_gas'].map({True:1,False:0})"
   ]
  },
  {
   "cell_type": "code",
   "execution_count": 31,
   "metadata": {},
   "outputs": [],
   "source": [
    "targets = data['price_usd']\n",
    "inputs = data.drop(['price_usd'],axis=1)\n",
    "# inputs = data['manufacturer_name']\n"
   ]
  },
  {
   "cell_type": "code",
   "execution_count": 60,
   "metadata": {},
   "outputs": [],
   "source": [
    "# from statsmodels.stats.outliers_influence import variance_inflation_factor\n",
    "# variables = inputs[columns]\n",
    "# a =variables.values\n",
    "# print(a)\n",
    "# vif = pd.DataFrame()\n",
    "# vif[\"VIF\"] = [variance_inflation_factor(variables.values, i) for i in range(variables.shape[1])]\n",
    "# vif[\"features\"] = variables.columns"
   ]
  },
  {
   "cell_type": "code",
   "execution_count": 61,
   "metadata": {},
   "outputs": [],
   "source": [
    "# vif\n"
   ]
  },
  {
   "cell_type": "code",
   "execution_count": 62,
   "metadata": {},
   "outputs": [],
   "source": [
    "# for x in data\n",
    "# for i, j in vif.iterrows():\n",
    "#     if j['VIF']>5:\n",
    "#         new_data = new_data.drop(j['features'],axis=1)\n",
    "# new_data"
   ]
  },
  {
   "cell_type": "code",
   "execution_count": 63,
   "metadata": {},
   "outputs": [],
   "source": [
    "# data_no_multicollinearity = data_cleaned.drop(['engine_capacity'],axis=1)"
   ]
  },
  {
   "cell_type": "code",
   "execution_count": 64,
   "metadata": {},
   "outputs": [],
   "source": [
    "# f, (ax1,ax2,ax3,ax4) = plt.subplots(1, 4, sharey=True, figsize=(50,10))\n",
    "# ax1.scatter(new_data['manufacturer_name'],new_data['log_price'])\n",
    "# ax1.set_title('manufacturer_name & price_usd')\n",
    "# ax2.scatter(new_data['model_name'],new_data['log_price'])\n",
    "# ax2.set_title('model_name & price_usd')\n",
    "# ax3.scatter(new_data['color'],new_data['log_price'])\n",
    "# ax3.set_title('color & price_usd')\n",
    "# ax4.scatter(new_data['engine_has_gas'],new_data['log_price'])\n",
    "# ax4.set_title('engine_has_gas & price_usd')\n",
    "# plt.show()"
   ]
  },
  {
   "cell_type": "code",
   "execution_count": 65,
   "metadata": {},
   "outputs": [],
   "source": [
    "# data_no_multicollinearity2 = data_no_multicollinearity.drop(['engine_capacity'],axis=1)\n",
    "# data_no_multicollinearity2"
   ]
  },
  {
   "cell_type": "code",
   "execution_count": 66,
   "metadata": {},
   "outputs": [],
   "source": [
    "# data_with_dummies = pd.get_dummies(data_cleaned,drop_first=True)"
   ]
  },
  {
   "cell_type": "code",
   "execution_count": 67,
   "metadata": {},
   "outputs": [],
   "source": [
    "# data_with_dummies.head()"
   ]
  },
  {
   "cell_type": "code",
   "execution_count": 68,
   "metadata": {},
   "outputs": [],
   "source": [
    "# data_with_dummies.columns.values"
   ]
  },
  {
   "cell_type": "code",
   "execution_count": 32,
   "metadata": {},
   "outputs": [
    {
     "data": {
      "text/plain": [
       "StandardScaler()"
      ]
     },
     "execution_count": 32,
     "metadata": {},
     "output_type": "execute_result"
    }
   ],
   "source": [
    "from sklearn.preprocessing import StandardScaler\n",
    "\n",
    "scaler = StandardScaler()\n",
    "scaler.fit(inputs)\n",
    "inputs_scaled = scaler.transform(inputs)\n"
   ]
  },
  {
   "cell_type": "code",
   "execution_count": 34,
   "metadata": {},
   "outputs": [],
   "source": [
    "x_train, x_test, y_train, y_test = train_test_split(inputs,targets, test_size=0.2, random_state=365)"
   ]
  },
  {
   "cell_type": "code",
   "execution_count": 70,
   "metadata": {
    "scrolled": false
   },
   "outputs": [
    {
     "data": {
      "image/png": "[encoded data removed]",
      "text/plain": [
       "<Figure size 432x288 with 1 Axes>"
      ]
     },
     "metadata": {},
     "output_type": "display_data"
    }
   ],
   "source": [
    "plt.scatter(y_test, y_hat, alpha=0.1)\n",
    "plt.xlabel(\"y_test\",size=18)\n",
    "plt.ylabel(\"y_hat\",size=18)\n",
    "plt.xlim(-2,60000)\n",
    "plt.ylim(-3,60000)\n",
    "plt.show()"
   ]
  },
  {
   "cell_type": "code",
   "execution_count": 78,
   "metadata": {},
   "outputs": [],
   "source": [
    "from sklearn.linear_model import Ridge\n",
    "clf = Ridge(alpha=0.1)\n",
    "clf.fit(x_train, y_train)\n",
    "clf.score(x_test,y_test)\n",
    "y_hat_ridge = clf.predict(x_test)"
   ]
  },
  {
   "cell_type": "code",
   "execution_count": 79,
   "metadata": {},
   "outputs": [
    {
     "data": {
      "text/html": [
       "<style  type=\"text/css\" >\n",
       "</style><table id=\"T_06790448_2027_11eb_8db8_9cad97cf75ba\" ><thead>    <tr>        <th class=\"col_heading level0 col0\" >MSE</th>        <th class=\"col_heading level0 col1\" >MAPE</th>        <th class=\"col_heading level0 col2\" >MAE</th>        <th class=\"col_heading level0 col3\" >RMSE</th>        <th class=\"col_heading level0 col4\" >RSQUARED</th>    </tr></thead><tbody>\n",
       "                <tr>\n",
       "                                <td id=\"T_06790448_2027_11eb_8db8_9cad97cf75barow0_col0\" class=\"data row0 col0\" >12365597.146417</td>\n",
       "                        <td id=\"T_06790448_2027_11eb_8db8_9cad97cf75barow0_col1\" class=\"data row0 col1\" >264.537781</td>\n",
       "                        <td id=\"T_06790448_2027_11eb_8db8_9cad97cf75barow0_col2\" class=\"data row0 col2\" >2276.218523</td>\n",
       "                        <td id=\"T_06790448_2027_11eb_8db8_9cad97cf75barow0_col3\" class=\"data row0 col3\" >3516.475102</td>\n",
       "                        <td id=\"T_06790448_2027_11eb_8db8_9cad97cf75barow0_col4\" class=\"data row0 col4\" >0.686411</td>\n",
       "            </tr>\n",
       "    </tbody></table>"
      ],
      "text/plain": [
       "<pandas.io.formats.style.Styler at 0x2601f524520>"
      ]
     },
     "execution_count": 79,
     "metadata": {},
     "output_type": "execute_result"
    }
   ],
   "source": [
    "calculate_error_table(y_test, y_hat_ridge)"
   ]
  },
  {
   "cell_type": "code",
   "execution_count": 82,
   "metadata": {
    "scrolled": true
   },
   "outputs": [
    {
     "data": {
      "text/html": [
       "<style  type=\"text/css\" >\n",
       "</style><table id=\"T_583cdf97_2027_11eb_b41c_9cad97cf75ba\" ><thead>    <tr>        <th class=\"col_heading level0 col0\" >MSE</th>        <th class=\"col_heading level0 col1\" >MAPE</th>        <th class=\"col_heading level0 col2\" >MAE</th>        <th class=\"col_heading level0 col3\" >RMSE</th>        <th class=\"col_heading level0 col4\" >RSQUARED</th>    </tr></thead><tbody>\n",
       "                <tr>\n",
       "                                <td id=\"T_583cdf97_2027_11eb_b41c_9cad97cf75barow0_col0\" class=\"data row0 col0\" >12365179.490430</td>\n",
       "                        <td id=\"T_583cdf97_2027_11eb_b41c_9cad97cf75barow0_col1\" class=\"data row0 col1\" >264.558101</td>\n",
       "                        <td id=\"T_583cdf97_2027_11eb_b41c_9cad97cf75barow0_col2\" class=\"data row0 col2\" >2276.129976</td>\n",
       "                        <td id=\"T_583cdf97_2027_11eb_b41c_9cad97cf75barow0_col3\" class=\"data row0 col3\" >3516.415716</td>\n",
       "                        <td id=\"T_583cdf97_2027_11eb_b41c_9cad97cf75barow0_col4\" class=\"data row0 col4\" >0.686421</td>\n",
       "            </tr>\n",
       "    </tbody></table>"
      ],
      "text/plain": [
       "<pandas.io.formats.style.Styler at 0x2601d98f610>"
      ]
     },
     "execution_count": 82,
     "metadata": {},
     "output_type": "execute_result"
    }
   ],
   "source": [
    "from sklearn import linear_model\n",
    "clf_lasso = linear_model.Lasso(alpha=0.2)\n",
    "clf_lasso.fit(x_train, y_train)\n",
    "y_hat_lasso = clf_lasso.predict(x_test)\n",
    "calculate_error_table(y_test, y_hat_lasso)"
   ]
  },
  {
   "cell_type": "code",
   "execution_count": 71,
   "metadata": {},
   "outputs": [
    {
     "data": {
      "text/plain": [
       "33517.180967806606"
      ]
     },
     "execution_count": 71,
     "metadata": {},
     "output_type": "execute_result"
    }
   ],
   "source": [
    "errors= y_test - y_hat\n",
    "errors.max()"
   ]
  }
 ],
 "metadata": {
  "kernelspec": {
   "display_name": "Python 3",
   "language": "python",
   "name": "python3"
  },
  "language_info": {
   "codemirror_mode": {
    "name": "ipython",
    "version": 3
   },
   "file_extension": ".py",
   "mimetype": "text/x-python",
   "name": "python",
   "nbconvert_exporter": "python",
   "pygments_lexer": "ipython3",
   "version": "3.8.5"
  }
 },
 "nbformat": 4,
 "nbformat_minor": 4
}
